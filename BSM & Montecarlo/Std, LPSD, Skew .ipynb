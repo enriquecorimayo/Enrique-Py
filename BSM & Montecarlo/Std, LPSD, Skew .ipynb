{
 "cells": [
  {
   "cell_type": "markdown",
   "metadata": {},
   "source": [
    "### Conventional Volatility - STD"
   ]
  },
  {
   "cell_type": "code",
   "execution_count": 1,
   "metadata": {},
   "outputs": [],
   "source": [
    "from scipy import stats\n",
    "import pandas as pd\n",
    "import yfinance as yf\n",
    "import numpy as np"
   ]
  },
  {
   "cell_type": "code",
   "execution_count": 2,
   "metadata": {},
   "outputs": [
    {
     "name": "stdout",
     "output_type": "stream",
     "text": [
      "[*********************100%***********************]  1 of 1 completed\n",
      "0.19634913983865623\n"
     ]
    }
   ],
   "source": [
    "ticker='KO'\n",
    "start='2001-1-1'\n",
    "end='2021-1-1'\n",
    "def get_price(x, start, end):\n",
    "    df=yf.download(x, start=start, end=end)\n",
    "    return df\n",
    "stock = get_price(ticker,start,end)\n",
    "stock['Adj_Close_ret'] = stock['Adj Close'].pct_change()\n",
    "stock = stock.dropna()\n",
    "ret = stock.Adj_Close_ret.to_numpy()\n",
    "ret_std = np.std(ret)*np.sqrt(252)\n",
    "print(ret_std)"
   ]
  },
  {
   "cell_type": "markdown",
   "metadata": {},
   "source": [
    "### Test of normality"
   ]
  },
  {
   "cell_type": "code",
   "execution_count": 3,
   "metadata": {},
   "outputs": [
    {
     "name": "stdout",
     "output_type": "stream",
     "text": [
      "ticker= KO W-test, P-value\n",
      "(0.9038962721824646, 0.0)\n"
     ]
    },
    {
     "name": "stderr",
     "output_type": "stream",
     "text": [
      "C:\\Users\\Pau\\anaconda3\\lib\\site-packages\\scipy\\stats\\morestats.py:1676: UserWarning: p-value may not be accurate for N > 5000.\n",
      "  warnings.warn(\"p-value may not be accurate for N > 5000.\")\n"
     ]
    }
   ],
   "source": [
    "print ('ticker=',ticker,'W-test, P-value')\n",
    "print (stats.shapiro(ret))"
   ]
  },
  {
   "cell_type": "markdown",
   "metadata": {},
   "source": [
    "### Fat Tails"
   ]
  },
  {
   "cell_type": "code",
   "execution_count": 4,
   "metadata": {},
   "outputs": [
    {
     "name": "stdout",
     "output_type": "stream",
     "text": [
      "Stock  n       = 5031\n",
      "Stock  mean    = 0.000304567\n",
      "Stock  std     = 0.012368833\n",
      "Stock  skewness= -0.058337696\n",
      "Stock  kurtosis= 10.733619446\n"
     ]
    }
   ],
   "source": [
    "print( 'Stock  n       =',len(ret))\n",
    "print( 'Stock  mean    =',round(np.mean(ret),9))\n",
    "print( 'Stock  std     =',round(np.std(ret),9))\n",
    "print( 'Stock  skewness=',round(stats.skew(ret),9))\n",
    "print( 'Stock  kurtosis=',round(stats.kurtosis(ret),9))"
   ]
  },
  {
   "cell_type": "markdown",
   "metadata": {},
   "source": [
    "### LPSD (Lower Partial Standard Deviation)\n",
    "\n",
    "$LPSD^{\\\\ 2} = \\sum_{i=I}^m\\frac{(R_i - R_f)}{n-1}\\\\ R_i-R_f<0$"
   ]
  },
  {
   "cell_type": "code",
   "execution_count": 5,
   "metadata": {},
   "outputs": [],
   "source": [
    "import datetime as datetime\n",
    "\n",
    "with open('F-F_Research_Data_Factors_daily.txt','r') as file:\n",
    "    data = file.readlines()\n",
    "    f=[]\n",
    "    index=[]\n",
    "    for i in range(1,len(data)):\n",
    "        t=data[i].split()\n",
    "        t0_n=int(t[0])\n",
    "        y=int(t0_n/10000)\n",
    "        m=int(t0_n/100)-y*100\n",
    "        d=int(t0_n)-y*10000-m*100\n",
    "        index.append(datetime.datetime(y,m,d))\n",
    "        for j in range(1,5):\n",
    "            k=float(t[j])\n",
    "            f.append(k)\n"
   ]
  },
  {
   "cell_type": "code",
   "execution_count": 6,
   "metadata": {},
   "outputs": [],
   "source": [
    "n = len(f)\n",
    "f1=np.reshape(f,[int(n/4),4])\n",
    "ff=pd.DataFrame(f1,index=index,columns=['Mkt_Rf','SMB','HML','Rf'])\n",
    "ff.to_pickle(r'C:\\Users\\Pau\\temp\\ffDaily.picklex')"
   ]
  },
  {
   "cell_type": "code",
   "execution_count": 7,
   "metadata": {},
   "outputs": [
    {
     "name": "stdout",
     "output_type": "stream",
     "text": [
      " LPSD (annualized) for  KO is  0.252\n"
     ]
    }
   ],
   "source": [
    "ff = pd.read_pickle(r'C:\\Users\\Pau\\temp\\ffDaily.picklex')\n",
    "final = pd.merge(stock['Adj_Close_ret'], ff, left_index=True, right_index=True)\n",
    "k = final['Adj_Close_ret'] - final['Rf']\n",
    "k2=k[k<0]\n",
    "LPSD=np.sqrt(sum((k2**2)/(k2.shape[0]-1)))*np.sqrt(252)\n",
    "print(' LPSD (annualized) for ', ticker, 'is ',round(LPSD,3))"
   ]
  },
  {
   "cell_type": "markdown",
   "metadata": {},
   "source": [
    "### Equivalency of Volatility over two different periods"
   ]
  },
  {
   "cell_type": "code",
   "execution_count": 8,
   "metadata": {},
   "outputs": [
    {
     "name": "stdout",
     "output_type": "stream",
     "text": [
      "[*********************100%***********************]  1 of 1 completed\n",
      "[*********************100%***********************]  1 of 1 completed\n",
      "0.2435021197893464 0.17064027359636422\n",
      "T value ,    p-value \n",
      "BartlettResult(statistic=204.52468226459277, pvalue=2.150298021811155e-46)\n"
     ]
    }
   ],
   "source": [
    "ticker = 'SPY'\n",
    "start_period1 = '2008-1-1'\n",
    "end_period1 = '2014-1-1'\n",
    "start_period2 = '2001-1-1'\n",
    "end_period2 = '2007-12-31'\n",
    "spy_1 = get_price(ticker,start_period1,end_period1)\n",
    "spy_1['Adj_Close_ret'] = spy_1['Adj Close'].pct_change()\n",
    "spy_1 = spy_1.dropna()\n",
    "ret_1 = spy_1.Adj_Close_ret.to_numpy()\n",
    "ret_std_1 = np.std(ret_1)*np.sqrt(252)\n",
    "\n",
    "spy_2 = get_price(ticker,start_period2,end_period2)\n",
    "spy_2['Adj_Close_ret'] = spy_2['Adj Close'].pct_change()\n",
    "spy_2 = spy_2.dropna()\n",
    "ret_2 = spy_2.Adj_Close_ret.to_numpy()\n",
    "ret_std_2 = np.std(ret_2)*np.sqrt(252)\n",
    "print(ret_std_1, ret_std_2)\n",
    "print('T value ,    p-value ')\n",
    "print(stats.bartlett(ret_1, ret_2)) #Bartlett's test tests the null hypothesis that all input samples\n",
    "                                   #are from populations with equal variances."
   ]
  },
  {
   "cell_type": "code",
   "execution_count": 9,
   "metadata": {},
   "outputs": [
    {
     "name": "stdout",
     "output_type": "stream",
     "text": [
      "y1 vs. x (we expect to accept the null hypothesis)\n",
      "BP value,    df,    p-value\n",
      "bp = (0.596446, 1.0, 0.5508776)\n",
      "y2 vs. x    (we expect to rject the null hypothesis)\n",
      "BP value,    df,    p-value\n",
      "bp = (17.611054, 1.0, 0.0)\n"
     ]
    }
   ],
   "source": [
    "import statsmodels.api as sm\n",
    "import scipy as sp\n",
    "def breusch_pagan_test(y,x):\n",
    "    results=sm.OLS(y,x).fit()\n",
    "    resid=results.resid\n",
    "    n=len(resid)\n",
    "    sigma2 = sum(resid**2)/n\n",
    "    f = resid**2/sigma2 - 1\n",
    "    results2=sm.OLS(f,x).fit()\n",
    "    fv=results2.fittedvalues\n",
    "    bp=0.5 * sum(fv**2)\n",
    "    df=results2.df_model\n",
    "    p_value=1-sp.stats.chi.cdf(bp,df)\n",
    "    return round(bp,6), df, round(p_value,7)\n",
    "\n",
    "sp.random.seed(12345)\n",
    "n=100\n",
    "x=[]\n",
    "error1=sp.random.normal(0,1,n)\n",
    "error2=sp.random.normal(0,2,n)\n",
    "for i in range(n):\n",
    "    if i%2==1:\n",
    "        x.append(1)\n",
    "    else:\n",
    "        x.append(-1)\n",
    "        \n",
    "y1=x+np.array(x)+error1\n",
    "y2=np.zeros(n)\n",
    "\n",
    "for i in range(n):\n",
    "    if i%2==1:\n",
    "        y2[i]=x[i]+error1[i]\n",
    "    else:\n",
    "        y2[i]=x[i]+error2[i]\n",
    "print ('y1 vs. x (we expect to accept the null hypothesis)')\n",
    "bp=breusch_pagan_test(y1,x)\n",
    "\n",
    "print('BP value,    df,    p-value')\n",
    "print ('bp =', bp)\n",
    "bp=breusch_pagan_test(y2,x)\n",
    "print ('y2 vs. x    (we expect to rject the null hypothesis)')\n",
    "print('BP value,    df,    p-value')\n",
    "print('bp =', bp)"
   ]
  },
  {
   "cell_type": "markdown",
   "metadata": {},
   "source": [
    "### Volatilty smile and skewness"
   ]
  },
  {
   "cell_type": "code",
   "execution_count": 10,
   "metadata": {},
   "outputs": [
    {
     "data": {
      "image/png": "[encoded data removed]",
      "text/plain": [
       "<Figure size 432x288 with 1 Axes>"
      ]
     },
     "metadata": {
      "needs_background": "light"
     },
     "output_type": "display_data"
    }
   ],
   "source": [
    "import matplotlib.pyplot as plt\n",
    "\n",
    "stock = yf.Ticker('KO')\n",
    "options = stock.option_chain('2021-07-09')\n",
    "x = options[0]['strike']\n",
    "y = options[0]['impliedVolatility']\n",
    "plt.title(\"Volatility smile\")\n",
    "plt.figtext(0.55,0.80,\"KO calls\")\n",
    "plt.figtext(0.55,0.75,\"maturity: 2021-07-09\")\n",
    "plt.ylabel(\"Volatility\")\n",
    "plt.xlabel(\"Strike Price\")\n",
    "plt.plot(x,y,'o')\n",
    "plt.show()"
   ]
  },
  {
   "cell_type": "code",
   "execution_count": 11,
   "metadata": {},
   "outputs": [
    {
     "data": {
      "image/png": "[encoded data removed]",
      "text/plain": [
       "<Figure size 432x288 with 1 Axes>"
      ]
     },
     "metadata": {
      "needs_background": "light"
     },
     "output_type": "display_data"
    }
   ],
   "source": [
    "x = options[1]['strike']\n",
    "y = options[1]['impliedVolatility']\n",
    "plt.title(\"Volatility smile\")\n",
    "plt.figtext(0.55,0.80,\"KO Puts\")\n",
    "plt.figtext(0.55,0.75,\"maturity: 2021-06-11\")\n",
    "plt.ylabel(\"Volatility\")\n",
    "plt.xlabel(\"Strike Price\")\n",
    "plt.plot(x,y,'o')\n",
    "plt.show()"
   ]
  },
  {
   "cell_type": "code",
   "execution_count": null,
   "metadata": {},
   "outputs": [],
   "source": []
  }
 ],
 "metadata": {
  "kernelspec": {
   "display_name": "Python 3",
   "language": "python",
   "name": "python3"
  },
  "language_info": {
   "codemirror_mode": {
    "name": "ipython",
    "version": 3
   },
   "file_extension": ".py",
   "mimetype": "text/x-python",
   "name": "python",
   "nbconvert_exporter": "python",
   "pygments_lexer": "ipython3",
   "version": "3.7.6"
  }
 },
 "nbformat": 4,
 "nbformat_minor": 4
}
