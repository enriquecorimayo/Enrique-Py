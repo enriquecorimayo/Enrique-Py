{
 "cells": [
  {
   "cell_type": "markdown",
   "metadata": {},
   "source": [
    "## Credit Card Approvals\n",
    "\n",
    "In the present work we will do some machine learning with linear and non-linear models for the predictions of the approvals of credit card applications. We are going to use the free data set provided by the UCI Machine Learning Repository, I present the link:\n",
    "\n",
    "http://archive.ics.uci.edu/ml/datasets/credit+approval\n",
    "\n",
    "### Preprocessing\n",
    "\n",
    "But first, we'll clean up a bit before we begin."
   ]
  },
  {
   "cell_type": "code",
   "execution_count": 1,
   "metadata": {},
   "outputs": [],
   "source": [
    "#\n",
    "# Here we import everything you need\n",
    "#\n",
    "import pandas as pd\n",
    "import numpy as np\n",
    "from sklearn.preprocessing import LabelEncoder \n",
    "from sklearn.model_selection import train_test_split, GridSearchCV\n",
    "from sklearn.preprocessing import MinMaxScaler\n",
    "from sklearn.linear_model import LogisticRegression\n",
    "from sklearn.svm import SVC\n",
    "from sklearn.metrics import confusion_matrix"
   ]
  },
  {
   "cell_type": "code",
   "execution_count": 2,
   "metadata": {},
   "outputs": [
    {
     "name": "stdout",
     "output_type": "stream",
     "text": [
      "                                                   0\n",
      "0      b,30.83,0,u,g,w,v,1.25,t,t,01,f,g,00202,0,+\\n\n",
      "1  a,58.67,4.46,u,g,q,h,3.04,t,t,06,f,g,00043,560...\n",
      "2    a,24.50,0.5,u,g,q,h,1.5,t,f,0,f,g,00280,824,+\\n\n",
      "3   b,27.83,1.54,u,g,w,v,3.75,t,t,05,t,g,00100,3,+\\n\n",
      "4   b,20.17,5.625,u,g,w,v,1.71,t,f,0,f,s,00120,0,+\\n\n"
     ]
    }
   ],
   "source": [
    "# \n",
    "# It is always good practice to open a file with the context manager 'with'\n",
    "#\n",
    "with open(r'C:\\Users\\Pau\\temp\\crx (1).txt','r') as file:\n",
    "    \n",
    "    data = file.readlines()\n",
    "    \n",
    "df = pd.DataFrame(data)\n",
    "print(df.head())"
   ]
  },
  {
   "cell_type": "code",
   "execution_count": 3,
   "metadata": {},
   "outputs": [
    {
     "name": "stdout",
     "output_type": "stream",
     "text": [
      "                                                  0  0      1      2  3  4   \\\n",
      "0      b,30.83,0,u,g,w,v,1.25,t,t,01,f,g,00202,0,+\\n  b  30.83      0  u  g   \n",
      "1  a,58.67,4.46,u,g,q,h,3.04,t,t,06,f,g,00043,560...  a  58.67   4.46  u  g   \n",
      "2    a,24.50,0.5,u,g,q,h,1.5,t,f,0,f,g,00280,824,+\\n  a  24.50    0.5  u  g   \n",
      "3   b,27.83,1.54,u,g,w,v,3.75,t,t,05,t,g,00100,3,+\\n  b  27.83   1.54  u  g   \n",
      "4   b,20.17,5.625,u,g,w,v,1.71,t,f,0,f,s,00120,0,+\\n  b  20.17  5.625  u  g   \n",
      "\n",
      "  5  6     7  8  9   10 11 12     13   14   15  \n",
      "0  w  v  1.25  t  t  01  f  g  00202    0  +\\n  \n",
      "1  q  h  3.04  t  t  06  f  g  00043  560  +\\n  \n",
      "2  q  h   1.5  t  f   0  f  g  00280  824  +\\n  \n",
      "3  w  v  3.75  t  t  05  t  g  00100    3  +\\n  \n",
      "4  w  v  1.71  t  f   0  f  s  00120    0  +\\n  \n"
     ]
    }
   ],
   "source": [
    "#\n",
    "# We must to split the column 0, we use the comma as a separator \n",
    "#\n",
    "df = pd.concat([df[[0]], df[0].str.split(',', expand=True)], axis=1)\n",
    "print(df.head())"
   ]
  },
  {
   "cell_type": "code",
   "execution_count": 4,
   "metadata": {},
   "outputs": [
    {
     "name": "stdout",
     "output_type": "stream",
     "text": [
      "    0      1       2  3  4   5   6     7  8  9   10 11 12     13   14   15\n",
      "0    b  30.83       0  u  g   w   v  1.25  t  t  01  f  g  00202    0  +\\n\n",
      "1    a  58.67    4.46  u  g   q   h  3.04  t  t  06  f  g  00043  560  +\\n\n",
      "2    a  24.50     0.5  u  g   q   h   1.5  t  f   0  f  g  00280  824  +\\n\n",
      "3    b  27.83    1.54  u  g   w   v  3.75  t  t  05  t  g  00100    3  +\\n\n",
      "4    b  20.17   5.625  u  g   w   v  1.71  t  f   0  f  s  00120    0  +\\n\n",
      "..  ..    ...     ... .. ..  ..  ..   ... .. ..  .. .. ..    ...  ...  ...\n",
      "685  b  21.08  10.085  y  p   e   h  1.25  f  f   0  f  g  00260    0  -\\n\n",
      "686  a  22.67    0.75  u  g   c   v     2  f  t  02  t  g  00200  394  -\\n\n",
      "687  a  25.25    13.5  y  p  ff  ff     2  f  t  01  t  g  00200    1  -\\n\n",
      "688  b  17.92   0.205  u  g  aa   v  0.04  f  f   0  f  g  00280  750  -\\n\n",
      "689  b  35.00   3.375  u  g   c   h  8.29  f  f   0  t  g  00000    0  -\\n\n",
      "\n",
      "[690 rows x 16 columns]\n"
     ]
    }
   ],
   "source": [
    "#\n",
    "# Select the split columns\n",
    "#\n",
    "df = df.iloc[:, 1:]\n",
    "print(df)"
   ]
  },
  {
   "cell_type": "markdown",
   "metadata": {},
   "source": [
    "For privacy, there is no name for data features, but we can get a good idea here:\n",
    "\n",
    "http://rstudio-pubs-static.s3.amazonaws.com/73039_9946de135c0a49daa7a0a9eda4a67a72.html\n",
    "\n",
    "Columns 2, 7, 10 and 14 seem to be numerical and 15 the output according to the blog."
   ]
  },
  {
   "cell_type": "code",
   "execution_count": 5,
   "metadata": {},
   "outputs": [
    {
     "name": "stdout",
     "output_type": "stream",
     "text": [
      "0      object\n",
      "1      object\n",
      "2     float64\n",
      "3      object\n",
      "4      object\n",
      "5      object\n",
      "6      object\n",
      "7     float64\n",
      "8      object\n",
      "9      object\n",
      "10      int64\n",
      "11     object\n",
      "12     object\n",
      "13     object\n",
      "14      int64\n",
      "15     object\n",
      "dtype: object\n"
     ]
    }
   ],
   "source": [
    "#\n",
    "# Change the type of the columns 2, 7, 10 and 14\n",
    "#\n",
    "l=[2,7,10,14]\n",
    "for i in l:\n",
    "    df[i] = pd.to_numeric(df[i])\n",
    "print(df.dtypes)"
   ]
  },
  {
   "cell_type": "code",
   "execution_count": 6,
   "metadata": {},
   "outputs": [
    {
     "name": "stdout",
     "output_type": "stream",
     "text": [
      "shape(690, 16)\n",
      "\n",
      "\n",
      "info\n",
      "\n",
      "\n",
      "<class 'pandas.core.frame.DataFrame'>\n",
      "RangeIndex: 690 entries, 0 to 689\n",
      "Data columns (total 16 columns):\n",
      " #   Column  Non-Null Count  Dtype  \n",
      "---  ------  --------------  -----  \n",
      " 0   0       690 non-null    object \n",
      " 1   1       690 non-null    object \n",
      " 2   2       690 non-null    float64\n",
      " 3   3       690 non-null    object \n",
      " 4   4       690 non-null    object \n",
      " 5   5       690 non-null    object \n",
      " 6   6       690 non-null    object \n",
      " 7   7       690 non-null    float64\n",
      " 8   8       690 non-null    object \n",
      " 9   9       690 non-null    object \n",
      " 10  10      690 non-null    int64  \n",
      " 11  11      690 non-null    object \n",
      " 12  12      690 non-null    object \n",
      " 13  13      690 non-null    object \n",
      " 14  14      690 non-null    int64  \n",
      " 15  15      690 non-null    object \n",
      "dtypes: float64(2), int64(2), object(12)\n",
      "memory usage: 86.4+ KB\n",
      "None\n",
      "\n",
      "\n",
      "description\n",
      "\n",
      "\n",
      "               2           7          10             14\n",
      "count  690.000000  690.000000  690.00000     690.000000\n",
      "mean     4.758725    2.223406    2.40000    1017.385507\n",
      "std      4.978163    3.346513    4.86294    5210.102598\n",
      "min      0.000000    0.000000    0.00000       0.000000\n",
      "25%      1.000000    0.165000    0.00000       0.000000\n",
      "50%      2.750000    1.000000    0.00000       5.000000\n",
      "75%      7.207500    2.625000    3.00000     395.500000\n",
      "max     28.000000   28.500000   67.00000  100000.000000\n"
     ]
    }
   ],
   "source": [
    "#\n",
    "# Print the shape, information and main statistics of the data frame\n",
    "#\n",
    "print('shape' + str(df.shape))\n",
    "print(\"\\n\")\n",
    "print('info')\n",
    "print(\"\\n\")\n",
    "print(df.info())\n",
    "print(\"\\n\")\n",
    "print('description')\n",
    "print(\"\\n\")\n",
    "print(df.describe())"
   ]
  },
  {
   "cell_type": "code",
   "execution_count": 7,
   "metadata": {},
   "outputs": [
    {
     "name": "stdout",
     "output_type": "stream",
     "text": [
      "    0      1       2  3  4   5   6      7  8  9   10 11 12     13   14   15\n",
      "670  b  47.17   5.835  u  g   w   v  5.500  f  f   0  f  g  00465  150  -\\n\n",
      "671  b  25.83  12.835  u  g  cc   v  0.500  f  f   0  f  g  00000    2  -\\n\n",
      "672  a  50.25   0.835  u  g  aa   v  0.500  f  f   0  t  g  00240  117  -\\n\n",
      "673  ?  29.50   2.000  y  p   e   h  2.000  f  f   0  f  g  00256   17  -\\n\n",
      "674  a  37.33   2.500  u  g   i   h  0.210  f  f   0  f  g  00260  246  -\\n\n",
      "675  a  41.58   1.040  u  g  aa   v  0.665  f  f   0  f  g  00240  237  -\\n\n",
      "676  a  30.58  10.665  u  g   q   h  0.085  f  t  12  t  g  00129    3  -\\n\n",
      "677  b  19.42   7.250  u  g   m   v  0.040  f  t   1  f  g  00100    1  -\\n\n",
      "678  a  17.92  10.210  u  g  ff  ff  0.000  f  f   0  f  g  00000   50  -\\n\n",
      "679  a  20.08   1.250  u  g   c   v  0.000  f  f   0  f  g  00000    0  -\\n\n",
      "680  b  19.50   0.290  u  g   k   v  0.290  f  f   0  f  g  00280  364  -\\n\n",
      "681  b  27.83   1.000  y  p   d   h  3.000  f  f   0  f  g  00176  537  -\\n\n",
      "682  b  17.08   3.290  u  g   i   v  0.335  f  f   0  t  g  00140    2  -\\n\n",
      "683  b  36.42   0.750  y  p   d   v  0.585  f  f   0  f  g  00240    3  -\\n\n",
      "684  b  40.58   3.290  u  g   m   v  3.500  f  f   0  t  s  00400    0  -\\n\n",
      "685  b  21.08  10.085  y  p   e   h  1.250  f  f   0  f  g  00260    0  -\\n\n",
      "686  a  22.67   0.750  u  g   c   v  2.000  f  t   2  t  g  00200  394  -\\n\n",
      "687  a  25.25  13.500  y  p  ff  ff  2.000  f  t   1  t  g  00200    1  -\\n\n",
      "688  b  17.92   0.205  u  g  aa   v  0.040  f  f   0  f  g  00280  750  -\\n\n"
     ]
    }
   ],
   "source": [
    "#\n",
    "# Visual check for possible missing values\n",
    "#\n",
    "print(df.iloc[-20:-1,:])"
   ]
  },
  {
   "cell_type": "code",
   "execution_count": 8,
   "metadata": {},
   "outputs": [
    {
     "name": "stdout",
     "output_type": "stream",
     "text": [
      "      0      1       2  3  4   5   6      7  8  9   10 11 12     13   14   15\n",
      "670    b  47.17   5.835  u  g   w   v  5.500  f  f   0  f  g  00465  150  -\\n\n",
      "671    b  25.83  12.835  u  g  cc   v  0.500  f  f   0  f  g  00000    2  -\\n\n",
      "672    a  50.25   0.835  u  g  aa   v  0.500  f  f   0  t  g  00240  117  -\\n\n",
      "673  NaN  29.50   2.000  y  p   e   h  2.000  f  f   0  f  g  00256   17  -\\n\n",
      "674    a  37.33   2.500  u  g   i   h  0.210  f  f   0  f  g  00260  246  -\\n\n",
      "675    a  41.58   1.040  u  g  aa   v  0.665  f  f   0  f  g  00240  237  -\\n\n",
      "676    a  30.58  10.665  u  g   q   h  0.085  f  t  12  t  g  00129    3  -\\n\n",
      "677    b  19.42   7.250  u  g   m   v  0.040  f  t   1  f  g  00100    1  -\\n\n",
      "678    a  17.92  10.210  u  g  ff  ff  0.000  f  f   0  f  g  00000   50  -\\n\n",
      "679    a  20.08   1.250  u  g   c   v  0.000  f  f   0  f  g  00000    0  -\\n\n",
      "680    b  19.50   0.290  u  g   k   v  0.290  f  f   0  f  g  00280  364  -\\n\n",
      "681    b  27.83   1.000  y  p   d   h  3.000  f  f   0  f  g  00176  537  -\\n\n",
      "682    b  17.08   3.290  u  g   i   v  0.335  f  f   0  t  g  00140    2  -\\n\n",
      "683    b  36.42   0.750  y  p   d   v  0.585  f  f   0  f  g  00240    3  -\\n\n",
      "684    b  40.58   3.290  u  g   m   v  3.500  f  f   0  t  s  00400    0  -\\n\n",
      "685    b  21.08  10.085  y  p   e   h  1.250  f  f   0  f  g  00260    0  -\\n\n",
      "686    a  22.67   0.750  u  g   c   v  2.000  f  t   2  t  g  00200  394  -\\n\n",
      "687    a  25.25  13.500  y  p  ff  ff  2.000  f  t   1  t  g  00200    1  -\\n\n",
      "688    b  17.92   0.205  u  g  aa   v  0.040  f  f   0  f  g  00280  750  -\\n\n"
     ]
    }
   ],
   "source": [
    "#\n",
    "# Replace the '?'s with NaN\n",
    "#\n",
    "df = df.replace( '?', np.nan)\n",
    "\n",
    "print(df.iloc[-20:-1])"
   ]
  },
  {
   "cell_type": "code",
   "execution_count": 9,
   "metadata": {
    "scrolled": true
   },
   "outputs": [
    {
     "name": "stdout",
     "output_type": "stream",
     "text": [
      "0     12\n",
      "1     12\n",
      "2      0\n",
      "3      6\n",
      "4      6\n",
      "5      9\n",
      "6      9\n",
      "7      0\n",
      "8      0\n",
      "9      0\n",
      "10     0\n",
      "11     0\n",
      "12     0\n",
      "13    13\n",
      "14     0\n",
      "15     0\n",
      "dtype: int64\n"
     ]
    }
   ],
   "source": [
    "# fill the missing values with the mean of the corresponding column\n",
    "df.fillna(df.mean(), inplace=True)\n",
    "\n",
    "# Count the NaNs values to verify\n",
    "print(df.isnull().sum())"
   ]
  },
  {
   "cell_type": "code",
   "execution_count": 10,
   "metadata": {},
   "outputs": [
    {
     "name": "stdout",
     "output_type": "stream",
     "text": [
      "0     0\n",
      "1     0\n",
      "2     0\n",
      "3     0\n",
      "4     0\n",
      "5     0\n",
      "6     0\n",
      "7     0\n",
      "8     0\n",
      "9     0\n",
      "10    0\n",
      "11    0\n",
      "12    0\n",
      "13    0\n",
      "14    0\n",
      "15    0\n",
      "dtype: int64\n"
     ]
    }
   ],
   "source": [
    "# non-numeric columns have no mean, so a good practice is to fill in missing values with the most frequent value.\n",
    "for col in df.columns:\n",
    "    # Check if the column is of object type\n",
    "    if df[col].dtypes == 'object':\n",
    "        # Impute with the most frequent value\n",
    "        df[col] = df[col].fillna(df[col].value_counts().index[0])\n",
    "\n",
    "# Count the NaNs values to verify\n",
    "print(df.isnull().sum())"
   ]
  },
  {
   "cell_type": "markdown",
   "metadata": {},
   "source": [
    "### Machine Learning Model\n",
    "\n",
    "#### Convert to numeric data\n",
    "\n",
    "Now that we have pre-processed our data, we will move on to the machine learning process, but there is still a concern, most machine learning models only work with numeric data.\n",
    "\n",
    "We will use LabelEncoder from scikit-learn packages to convert the object data to numeric. "
   ]
  },
  {
   "cell_type": "code",
   "execution_count": 11,
   "metadata": {},
   "outputs": [],
   "source": [
    "# Instantiate LabelEncoder\n",
    "LE = LabelEncoder()\n",
    "\n",
    "for i in df.columns:\n",
    "    if df[i].dtypes == 'object':\n",
    "    # Use LabelEncoder to do the numeric transformation\n",
    "        df[i]=LE.fit_transform(df[i])"
   ]
  },
  {
   "cell_type": "markdown",
   "metadata": {},
   "source": [
    "#### Feature Selection\n",
    "\n",
    "The features 'DriverLicense' and 'ZipCode'(11 and 13 respectively) do not appear to be relevant for credit card approvals, so for the sake of simplicity, we discard them."
   ]
  },
  {
   "cell_type": "code",
   "execution_count": 12,
   "metadata": {},
   "outputs": [],
   "source": [
    "# Drop the features 11 and 13 \n",
    "df2 = df.drop([11, 13], axis=1)\n",
    "# Convert to numpy array\n",
    "df2 = df2.to_numpy()\n",
    "\n",
    "# Separate features and labels\n",
    "X, y = df2[:,0:13] , df2[:,13]\n",
    "\n",
    "# Split into train and test sets\n",
    "X_train, X_test, y_train, y_test = train_test_split(X,\n",
    "                                y,\n",
    "                                test_size = 0.35,\n",
    "                                random_state = 42) "
   ]
  },
  {
   "cell_type": "markdown",
   "metadata": {},
   "source": [
    "#### Scaling data\n",
    "\n",
    "Machine learning models only see numbers, so if you have different ranges ... let's say thousands and tens, some features will be more important in the model than others. For example, 'Employee' only has values of zeros and ones ... while 'Income' is in thousands ... there is no way to compare to each other unless we scale them first."
   ]
  },
  {
   "cell_type": "code",
   "execution_count": 13,
   "metadata": {},
   "outputs": [],
   "source": [
    "Scaler = MinMaxScaler(feature_range=(0, 1)) \n",
    "rescaled_X_train = Scaler.fit_transform(X_train)\n",
    "rescaled_X_test = Scaler.fit_transform(X_test)"
   ]
  },
  {
   "cell_type": "markdown",
   "metadata": {},
   "source": [
    "### Linear Model : Logistic Regression\n",
    "\n",
    "We choose Logistic Regression, it is a simple model but it works well in this type of classification problem where the labels are binary."
   ]
  },
  {
   "cell_type": "code",
   "execution_count": 14,
   "metadata": {},
   "outputs": [
    {
     "data": {
      "text/plain": [
       "LogisticRegression(C=1.0, class_weight=None, dual=False, fit_intercept=True,\n",
       "                   intercept_scaling=1, l1_ratio=None, max_iter=100,\n",
       "                   multi_class='auto', n_jobs=None, penalty='l2',\n",
       "                   random_state=None, solver='lbfgs', tol=0.0001, verbose=0,\n",
       "                   warm_start=False)"
      ]
     },
     "execution_count": 14,
     "metadata": {},
     "output_type": "execute_result"
    }
   ],
   "source": [
    "# Create an Instance of the classifier\n",
    "lr = LogisticRegression() \n",
    "\n",
    "# Fit logreg to the train set\n",
    "\n",
    "lr.fit(rescaled_X_train, y_train)"
   ]
  },
  {
   "cell_type": "code",
   "execution_count": 15,
   "metadata": {},
   "outputs": [
    {
     "name": "stdout",
     "output_type": "stream",
     "text": [
      "Accuracy :  0.8512396694214877\n",
      "[[100   9]\n",
      " [ 27 106]]\n"
     ]
    }
   ],
   "source": [
    "# Predict\n",
    "y_pred = lr.predict(rescaled_X_test)\n",
    "\n",
    "# Get the accuracy \n",
    "print(\"Accuracy : \", lr.score(rescaled_X_test, y_test))\n",
    "\n",
    "# It is always good practice to do the confusion matrix in binary classification\n",
    "print(confusion_matrix(y_test, y_pred))"
   ]
  },
  {
   "cell_type": "markdown",
   "metadata": {},
   "source": [
    "#### GridSearchCV\n",
    "\n",
    "Its seems to work pretty well, but lets do some GridSearchCV, to see if we can get any improvement by changing the default hyperparameters."
   ]
  },
  {
   "cell_type": "code",
   "execution_count": 16,
   "metadata": {},
   "outputs": [
    {
     "name": "stdout",
     "output_type": "stream",
     "text": [
      "Best: 0.850362 using {'max_iter': 50, 'tol': 0.1}\n"
     ]
    }
   ],
   "source": [
    "# Create a dict for the hyper-parameters\n",
    "param_grid = dict({'tol':[0.1, 0.01, 0.001, 0.0001], 'max_iter':[50, 100, 150, 200]})\n",
    "\n",
    "# Instantiate GridSearchCV \n",
    "grid_model = GridSearchCV(estimator = lr, param_grid = param_grid, cv = 5)\n",
    "\n",
    "# Fit data...\n",
    "grid_model_result = grid_model.fit(rescaled_X_train, y_train)\n",
    "\n",
    "# Summarize results\n",
    "best_score, best_params = grid_model_result.best_score_, grid_model_result.best_params_\n",
    "print(\"Best: %f using %s\" % (best_score, best_params))"
   ]
  },
  {
   "cell_type": "code",
   "execution_count": 17,
   "metadata": {},
   "outputs": [
    {
     "name": "stdout",
     "output_type": "stream",
     "text": [
      "Accuracy :  0.8512396694214877\n",
      "[[100   9]\n",
      " [ 27 106]]\n"
     ]
    }
   ],
   "source": [
    "# Finally, let's see how the best parameters work.\n",
    "# Define the hyperparameters\n",
    "lr1 = LogisticRegression(max_iter = 50, tol = 0.1) \n",
    "\n",
    "# Train the model...\n",
    "\n",
    "lr1.fit(rescaled_X_train, y_train)\n",
    "\n",
    "# Predict\n",
    "y_pred1 = lr1.predict(rescaled_X_test)\n",
    "\n",
    "# Get the accuracy ...\n",
    "print(\"Accuracy : \", lr1.score(rescaled_X_test, y_test))\n",
    "\n",
    "# Print the confusion matrix \n",
    "print(confusion_matrix(y_test, y_pred1))"
   ]
  },
  {
   "cell_type": "markdown",
   "metadata": {},
   "source": [
    "its returns the same as before... \n",
    "\n",
    "### Non-Linear Model: SVC\n",
    "\n",
    "We can also try with a non-linear model to see if out perform the previous. Support Vector Machine Classifier is commonly used in classification problems."
   ]
  },
  {
   "cell_type": "code",
   "execution_count": 18,
   "metadata": {},
   "outputs": [
    {
     "name": "stdout",
     "output_type": "stream",
     "text": [
      "Best: 0.857054 using {'gamma': 0.01}\n"
     ]
    }
   ],
   "source": [
    "# Create an Instance of the classifier\n",
    "svm = SVC()\n",
    "\n",
    "# Create a dict for the hyper-parameters\n",
    "param_grid_svc = dict({'gamma' : [0.001, 0.01, 0.05, 0.1, 1, 2]}) # Smaller gamma leads to smoother limits ...\n",
    "\n",
    "# Instantiate GridSearchCV \n",
    "grid_model_svc = GridSearchCV(estimator = svm, param_grid = param_grid_svc, cv = 5)\n",
    "\n",
    "# Fit data...\n",
    "grid_model_svc_result = grid_model_svc.fit(rescaled_X_train, y_train)\n",
    "\n",
    "# Summarize results\n",
    "best_score_svc, best_params_svc = grid_model_svc_result.best_score_, grid_model_svc_result.best_params_\n",
    "print(\"Best: %f using %s\" % (best_score_svc, best_params_svc))"
   ]
  },
  {
   "cell_type": "code",
   "execution_count": 19,
   "metadata": {},
   "outputs": [
    {
     "name": "stdout",
     "output_type": "stream",
     "text": [
      "Accuracy :  0.8512396694214877\n",
      "[[101   8]\n",
      " [ 28 105]]\n"
     ]
    }
   ],
   "source": [
    "# Finally, let's see how the best parameter works.\n",
    "\n",
    "# Define the hyperparameter\n",
    "svm1 = SVC(gamma = 0.01)\n",
    "\n",
    "# Train the model...\n",
    "svm1.fit(rescaled_X_train, y_train)\n",
    "\n",
    "# Predict\n",
    "y_pred_svm1 = svm1.predict(rescaled_X_test)\n",
    "\n",
    "# Get the accuracy ...\n",
    "print(\"Accuracy : \", svm1.score(rescaled_X_test, y_test))\n",
    "\n",
    "# Print the confusion matrix \n",
    "print(confusion_matrix(y_test, y_pred_svm1))"
   ]
  },
  {
   "cell_type": "markdown",
   "metadata": {},
   "source": [
    "### Conclusions\n",
    "\n",
    "The accuracy is roughly the same as the linear model. In fact, it is not a bad prediction at all, but we thought that we could do better.\n",
    "\n",
    "Sometimes the simplest models are sufficient for these types of classification problems."
   ]
  }
 ],
 "metadata": {
  "kernelspec": {
   "display_name": "Python 3",
   "language": "python",
   "name": "python3"
  },
  "language_info": {
   "codemirror_mode": {
    "name": "ipython",
    "version": 3
   },
   "file_extension": ".py",
   "mimetype": "text/x-python",
   "name": "python",
   "nbconvert_exporter": "python",
   "pygments_lexer": "ipython3",
   "version": "3.7.6"
  }
 },
 "nbformat": 4,
 "nbformat_minor": 4
}
