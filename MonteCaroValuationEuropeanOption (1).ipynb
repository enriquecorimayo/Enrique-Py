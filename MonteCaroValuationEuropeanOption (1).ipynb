{
 "cells": [
  {
   "cell_type": "markdown",
   "metadata": {},
   "source": [
    "### Montecarlo Valuation of European call option\n",
    "Monte Carlo valuation of European call option in Black-Scholes-Merton model\n",
    " \n",
    "Black-Sholes-Merton index  level  at  maturity\n",
    " \n",
    "$S_T\ = S_0exp((r-\\frac{1}{2}σ^2)T+σ \\sqrt{T_z})$\n",
    " \n",
    "Monte Carlo estimator for European Option\n",
    " \n",
    "$C_0\\approx e^{-rT}\\frac{1}{I}\\sum_{i=0}^Ih_T(i)$\n",
    " \n",
    "Parameter Values:"
   ]
  },
  {
   "cell_type": "code",
   "execution_count": 1,
   "metadata": {},
   "outputs": [
    {
     "name": "stdout",
     "output_type": "stream",
     "text": [
      "Value of the European Call Option 7.061\n"
     ]
    }
   ],
   "source": [
    "import numpy as np\n",
    "\n",
    "np.random.seed(12) #Initialize the random number generator\n",
    "\n",
    "S0 = 100.  # initial index level\n",
    "K = 104.  # strike price\n",
    "T = 1.0  # time to maturity\n",
    "r = 0.02  # riskless short rate\n",
    "sigma = 0.2  # volatility\n",
    "I = 100000  # number of simulations\n",
    "\n",
    "z = np.random.standard_normal(I) #1000 random numbers from the standard normal distribution \n",
    "ST = S0 * np.exp((r - 0.5 * sigma ** 2) * T + sigma * np.sqrt(T) * z) #Black_Scholes_Merton Formula\n",
    "hT=[] #List to fill\n",
    "for i in ST:\n",
    "    hT.append(np.max([i-K,0]))\n",
    "C0 = np.exp(-r * T) * sum(hT) / I #Monte Carlo Formula\n",
    "\n",
    "print (\"Value of the European Call Option %5.3f\" % C0)"
   ]
  },
  {
   "cell_type": "code",
   "execution_count": null,
   "metadata": {},
   "outputs": [],
   "source": []
  }
 ],
 "metadata": {
  "kernelspec": {
   "display_name": "Python 3",
   "language": "python",
   "name": "python3"
  },
  "language_info": {
   "codemirror_mode": {
    "name": "ipython",
    "version": 3
   },
   "file_extension": ".py",
   "mimetype": "text/x-python",
   "name": "python",
   "nbconvert_exporter": "python",
   "pygments_lexer": "ipython3",
   "version": "3.7.6"
  }
 },
 "nbformat": 4,
 "nbformat_minor": 4
}
